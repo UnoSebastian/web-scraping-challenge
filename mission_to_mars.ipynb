{
 "cells": [
  {
   "cell_type": "code",
   "execution_count": 21,
   "metadata": {},
   "outputs": [],
   "source": [
    "import traceback\n",
    "import sys\n",
    "from bs4 import BeautifulSoup as bs\n",
    "import pandas as pd\n",
    "from splinter import Browser\n",
    "from webdriver_manager.chrome import ChromeDriverManager\n",
    "import requests"
   ]
  },
  {
   "cell_type": "code",
   "execution_count": 22,
   "metadata": {},
   "outputs": [],
   "source": [
    "# Websites to scrape\n",
    "nasa_mars_news_url = \"https://mars.nasa.gov/news/\"\n",
    "jpl_mars_space_images_url = \"https://data-class-jpl-space.s3.amazonaws.com/JPL_Space/index.html\"\n",
    "mars_facts_url = \"https://space-facts.com/mars/\"\n",
    "mars_hemispheres_url = \"https://astrogeology.usgs.gov/search/results?q=hemisphere+enhanced&k1=target&v1=Mars\""
   ]
  },
  {
   "cell_type": "code",
   "execution_count": 29,
   "metadata": {},
   "outputs": [],
   "source": [
    "class ChromeBrowser(object): \n",
    "    \"\"\"\n",
    "    \"\"\"\n",
    "    def __init__(self, url):\n",
    "        self.url = url \n",
    "      \n",
    "    def __enter__(self): \n",
    "        executable_path = {'executable_path': ChromeDriverManager().install()}\n",
    "        self.browser = Browser('chrome', **executable_path, headless=False)\n",
    "        self.browser.visit(self.url)\n",
    "        return self.browser\n",
    "  \n",
    "    def __exit__(self, exc_type, exc_val, exc_tb):\n",
    "        if (exc_type is not None):\n",
    "            traceback.print_exception(exc_type, exc_val, exc_tb)\n",
    "        if (self.browser is not None):\n",
    "            self.browser.quit() \n",
    "        return True"
   ]
  },
  {
   "cell_type": "code",
   "execution_count": 17,
   "metadata": {},
   "outputs": [
    {
     "name": "stderr",
     "output_type": "stream",
     "text": [
      "[WDM] - ====== WebDriver manager ======\n",
      "[WDM] - Current google-chrome version is 89.0.4389\n",
      "[WDM] - Get LATEST driver version for 89.0.4389\n",
      "[WDM] - Driver [C:\\Users\\Bootcamp\\.wdm\\drivers\\chromedriver\\win32\\89.0.4389.23\\chromedriver.exe] found in cache\n"
     ]
    },
    {
     "name": "stdout",
     "output_type": "stream",
     "text": [
      "\n",
      "\n",
      "Mars Now\n",
      "\n",
      "NASA’s newest rover recorded audio of itself crunching over the surface of the Red Planet, adding a whole new dimension to Mars exploration.\n"
     ]
    }
   ],
   "source": [
    "# Scrape the NASA Mars News Site and collect the latest News Title \n",
    "# and Paragraph Text. Assign the \n",
    "# text to variables that you can \n",
    "# reference later.\n",
    "news_title = \"\"\n",
    "news_p = \"\"\n",
    "\n",
    "with ChromeBrowser(nasa_mars_news_url) as browser: \n",
    "    html = browser.html\n",
    "    soup = bs(html, \"html.parser\")\n",
    "    news_title = soup.find('div', class_='content_title').text\n",
    "    news_p = soup.find('div', class_='article_teaser_body').text\n",
    "    \n",
    "print(news_title)\n",
    "print()\n",
    "print(news_p)"
   ]
  },
  {
   "cell_type": "code",
   "execution_count": 34,
   "metadata": {},
   "outputs": [
    {
     "name": "stderr",
     "output_type": "stream",
     "text": [
      "[WDM] - ====== WebDriver manager ======\n",
      "[WDM] - Current google-chrome version is 89.0.4389\n",
      "[WDM] - Get LATEST driver version for 89.0.4389\n",
      "[WDM] - Driver [C:\\Users\\Bootcamp\\.wdm\\drivers\\chromedriver\\win32\\89.0.4389.23\\chromedriver.exe] found in cache\n"
     ]
    },
    {
     "name": "stdout",
     "output_type": "stream",
     "text": [
      "\n",
      "\n",
      "https://data-class-jpl-space.s3.amazonaws.com/JPL_Space/image/featured/mars1.jpg\n"
     ]
    }
   ],
   "source": [
    "# Use splinter to navigate the site and find the image url \n",
    "# for the current Featured Mars Image and assign the url \n",
    "# string to a variable called `featured_image_url`.\n",
    "\n",
    "# Make sure to find the image url to the full size `.jpg` image.\n",
    "\n",
    "# Make sure to save a complete url string for this image.\n",
    "\n",
    "featured_image_url = \"\"\n",
    "\n",
    "with ChromeBrowser(jpl_mars_space_images_url) as browser: \n",
    "    html = browser.html\n",
    "    soup = bs(html, \"html.parser\")\n",
    "    header_imgs = soup.find(class_='header').find_all(\"img\")\n",
    "    for img in header_imgs:\n",
    "        if (img[\"src\"] and \"featured\" in img[\"src\"].lower()):\n",
    "            featured_image_url = jpl_mars_space_images_url.\\\n",
    "            replace(\"index.html\", img[\"src\"]) \n",
    "    \n",
    "print(featured_image_url)"
   ]
  },
  {
   "cell_type": "code",
   "execution_count": null,
   "metadata": {},
   "outputs": [],
   "source": [
    "# Visit the Mars Facts webpage and use Pandas to scrape the table\n",
    "# containing facts about the planet including Diameter, Mass, etc.\n",
    "\n",
    "# Use Pandas to convert the data to a HTML table string.\n",
    "\n",
    "mars_facts"
   ]
  },
  {
   "cell_type": "code",
   "execution_count": null,
   "metadata": {},
   "outputs": [],
   "source": [
    "# Visit the USGS Astrogeology site to obtain high resolution images\n",
    "# for each of Mar's hemispheres.\n",
    "\n",
    "# You will need to click each of the links to the hemispheres in \n",
    "# order to find the image url to the full resolution image.\n",
    "\n",
    "# Save both the image url string for the full resolution hemisphere \n",
    "# image, and the Hemisphere title containing the hemisphere name. \n",
    "# Use a Python dictionary to store the data using the keys `img_url`\n",
    "# and `title`.\n",
    "\n",
    "# Append the dictionary with the image url string and the hemisphere \n",
    "# title to a list. This list will contain one dictionary for each\n",
    "# hemisphere.\n",
    "\n",
    "hemisphere_image_urls = []"
   ]
  }
 ],
 "metadata": {
  "kernelspec": {
   "display_name": "Python 3",
   "language": "python",
   "name": "python3"
  },
  "language_info": {
   "codemirror_mode": {
    "name": "ipython",
    "version": 3
   },
   "file_extension": ".py",
   "mimetype": "text/x-python",
   "name": "python",
   "nbconvert_exporter": "python",
   "pygments_lexer": "ipython3",
   "version": "3.8.5"
  }
 },
 "nbformat": 4,
 "nbformat_minor": 4
}
