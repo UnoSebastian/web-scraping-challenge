{
 "cells": [
  {
   "cell_type": "code",
   "execution_count": 1,
   "metadata": {},
   "outputs": [],
   "source": [
    "import traceback\n",
    "import sys\n",
    "from bs4 import BeautifulSoup as bs\n",
    "import pandas as pd\n",
    "from splinter import Browser\n",
    "from webdriver_manager.chrome import ChromeDriverManager\n",
    "import requests"
   ]
  },
  {
   "cell_type": "code",
   "execution_count": 2,
   "metadata": {},
   "outputs": [],
   "source": [
    "# Websites to scrape\n",
    "nasa_mars_news_url = \"https://mars.nasa.gov/news/\"\n",
    "jpl_mars_space_images_url = \"https://data-class-jpl-space.s3.amazonaws.com/JPL_Space/index.html\"\n",
    "mars_facts_url = \"https://space-facts.com/mars/\"\n",
    "astrogeology_url = \"https://astrogeology.usgs.gov\"\n",
    "mars_hemispheres_url = astrogeology_url + \"/search/results?q=hemisphere+enhanced&k1=target&v1=Mars\""
   ]
  },
  {
   "cell_type": "code",
   "execution_count": 3,
   "metadata": {},
   "outputs": [],
   "source": [
    "class ChromeBrowser(object): \n",
    "    \"\"\"\n",
    "    \"\"\"\n",
    "    def __init__(self, url):\n",
    "        self.url = url \n",
    "      \n",
    "    def __enter__(self): \n",
    "        executable_path = {'executable_path': ChromeDriverManager().install()}\n",
    "        self.browser = Browser('chrome', **executable_path, headless=False)\n",
    "        self.browser.visit(self.url)\n",
    "        return self.browser\n",
    "  \n",
    "    def __exit__(self, exc_type, exc_val, exc_tb):\n",
    "        if (exc_type is not None):\n",
    "            traceback.print_exception(exc_type, exc_val, exc_tb)\n",
    "        if (self.browser is not None):\n",
    "            self.browser.quit() \n",
    "        return True"
   ]
  },
  {
   "cell_type": "code",
   "execution_count": 4,
   "metadata": {},
   "outputs": [
    {
     "name": "stderr",
     "output_type": "stream",
     "text": [
      "[WDM] - ====== WebDriver manager ======\n",
      "[WDM] - Current google-chrome version is 89.0.4389\n",
      "[WDM] - Get LATEST driver version for 89.0.4389\n",
      "[WDM] - Driver [C:\\Users\\Bootcamp\\.wdm\\drivers\\chromedriver\\win32\\89.0.4389.23\\chromedriver.exe] found in cache\n"
     ]
    },
    {
     "name": "stdout",
     "output_type": "stream",
     "text": [
      "\n",
      "\n",
      "Mars Now\n",
      "\n",
      "Now uncocooned from its protective carbon-fiber shield, the helicopter is being readied for its next steps.  \n"
     ]
    }
   ],
   "source": [
    "# Scrape the NASA Mars News Site and collect the latest News Title \n",
    "# and Paragraph Text. Assign the \n",
    "# text to variables that you can \n",
    "# reference later.\n",
    "news_title = \"\"\n",
    "news_p = \"\"\n",
    "\n",
    "with ChromeBrowser(nasa_mars_news_url) as browser: \n",
    "    html = browser.html\n",
    "    soup = bs(html, \"html.parser\")\n",
    "    news_title = soup.find('div', class_='content_title').text\n",
    "    news_p = soup.find('div', class_='article_teaser_body').text\n",
    "    \n",
    "print(news_title)\n",
    "print()\n",
    "print(news_p)"
   ]
  },
  {
   "cell_type": "code",
   "execution_count": 11,
   "metadata": {},
   "outputs": [
    {
     "name": "stderr",
     "output_type": "stream",
     "text": [
      "[WDM] - ====== WebDriver manager ======\n",
      "[WDM] - Current google-chrome version is 89.0.4389\n",
      "[WDM] - Get LATEST driver version for 89.0.4389\n",
      "[WDM] - Driver [C:\\Users\\Bootcamp\\.wdm\\drivers\\chromedriver\\win32\\89.0.4389.23\\chromedriver.exe] found in cache\n"
     ]
    },
    {
     "name": "stdout",
     "output_type": "stream",
     "text": [
      "\n",
      "\n",
      "https://data-class-jpl-space.s3.amazonaws.com/JPL_Space/image/featured/mars3.jpg\n"
     ]
    }
   ],
   "source": [
    "# Use splinter to navigate the site and find the image url \n",
    "# for the current Featured Mars Image and assign the url \n",
    "# string to a variable called `featured_image_url`.\n",
    "\n",
    "# Make sure to find the image url to the full size `.jpg` image.\n",
    "\n",
    "# Make sure to save a complete url string for this image.\n",
    "\n",
    "featured_image_url = \"\"\n",
    "\n",
    "with ChromeBrowser(jpl_mars_space_images_url) as browser: \n",
    "    html = browser.html\n",
    "    soup = bs(html, \"html.parser\")\n",
    "    browser.links.find_by_partial_text(\"FULL IMAGE\").click()\n",
    "    html = browser.html\n",
    "    soup = bs(html, \"html.parser\")\n",
    "    featured_image_url = jpl_mars_space_images_url.\\\n",
    "    replace(\n",
    "        \"index.html\", \n",
    "        soup.find(class_=\"fancybox-image\")[\"src\"]\n",
    "    ) \n",
    "    \n",
    "print(featured_image_url)"
   ]
  },
  {
   "cell_type": "code",
   "execution_count": 6,
   "metadata": {},
   "outputs": [
    {
     "data": {
      "text/html": [
       "<div>\n",
       "<style scoped>\n",
       "    .dataframe tbody tr th:only-of-type {\n",
       "        vertical-align: middle;\n",
       "    }\n",
       "\n",
       "    .dataframe tbody tr th {\n",
       "        vertical-align: top;\n",
       "    }\n",
       "\n",
       "    .dataframe thead th {\n",
       "        text-align: right;\n",
       "    }\n",
       "</style>\n",
       "<table border=\"1\" class=\"dataframe\">\n",
       "  <thead>\n",
       "    <tr style=\"text-align: right;\">\n",
       "      <th></th>\n",
       "      <th>Diameter</th>\n",
       "      <th>Mass</th>\n",
       "      <th>Moons</th>\n",
       "      <th>Distance from Sun</th>\n",
       "      <th>Length of Year</th>\n",
       "      <th>Temperature</th>\n",
       "    </tr>\n",
       "  </thead>\n",
       "  <tbody>\n",
       "    <tr>\n",
       "      <th>Mars</th>\n",
       "      <td>6,779 km</td>\n",
       "      <td>6.39 × 10^23 kg</td>\n",
       "      <td>2</td>\n",
       "      <td>227,943,824 km</td>\n",
       "      <td>687 Earth days</td>\n",
       "      <td>-87 to -5 °C</td>\n",
       "    </tr>\n",
       "    <tr>\n",
       "      <th>Earth</th>\n",
       "      <td>12,742 km</td>\n",
       "      <td>5.97 × 10^24 kg</td>\n",
       "      <td>1</td>\n",
       "      <td>149,598,262 km</td>\n",
       "      <td>365.24 days</td>\n",
       "      <td>-88 to 58°C</td>\n",
       "    </tr>\n",
       "  </tbody>\n",
       "</table>\n",
       "</div>"
      ],
      "text/plain": [
       "        Diameter             Mass Moons Distance from Sun  Length of Year  \\\n",
       "Mars    6,779 km  6.39 × 10^23 kg     2    227,943,824 km  687 Earth days   \n",
       "Earth  12,742 km  5.97 × 10^24 kg     1    149,598,262 km     365.24 days   \n",
       "\n",
       "        Temperature  \n",
       "Mars   -87 to -5 °C  \n",
       "Earth   -88 to 58°C  "
      ]
     },
     "execution_count": 6,
     "metadata": {},
     "output_type": "execute_result"
    }
   ],
   "source": [
    "# Visit the Mars Facts webpage and use Pandas to scrape the table\n",
    "# containing facts about the planet including Diameter, Mass, etc.\n",
    "\n",
    "# Use Pandas to convert the data to a HTML table string.\n",
    "\n",
    "mars_facts = pd.read_html(mars_facts_url, match=\"Mars\")[0]\n",
    "mars_facts = mars_facts.set_index(\"Mars - Earth Comparison\", drop=True)\n",
    "mars_facts = mars_facts.transpose()\n",
    "mars_facts.columns = [col.replace(\":\",\"\") for col in mars_facts.columns]\n",
    "#mars_facts[\"Diameter\"] = mars_facts[\"Diameter\"].replace({\" km\":\"\",\",\":\"\",}, regex=True).astype('float')\n",
    "#mars_facts[\"Distance from Sun\"] = mars_facts[\"Distance from Sun\"].replace({\" km\":\"\",\",\":\"\",}, regex=True).astype('float')\n",
    "mars_facts"
   ]
  },
  {
   "cell_type": "code",
   "execution_count": 9,
   "metadata": {
    "scrolled": true
   },
   "outputs": [
    {
     "name": "stderr",
     "output_type": "stream",
     "text": [
      "[WDM] - ====== WebDriver manager ======\n",
      "[WDM] - Current google-chrome version is 89.0.4389\n",
      "[WDM] - Get LATEST driver version for 89.0.4389\n",
      "[WDM] - Driver [C:\\Users\\Bootcamp\\.wdm\\drivers\\chromedriver\\win32\\89.0.4389.23\\chromedriver.exe] found in cache\n"
     ]
    },
    {
     "name": "stdout",
     "output_type": "stream",
     "text": [
      "\n",
      "\n",
      "{'title': 'Cerberus Hemisphere Enhanced', 'img_url': 'https://astrogeology.usgs.gov/cache/images/f5e372a36edfa389625da6d0cc25d905_cerberus_enhanced.tif_full.jpg'}\n",
      "{'title': 'Schiaparelli Hemisphere Enhanced', 'img_url': 'https://astrogeology.usgs.gov/cache/images/3778f7b43bbbc89d6e3cfabb3613ba93_schiaparelli_enhanced.tif_full.jpg'}\n",
      "{'title': 'Syrtis Major Hemisphere Enhanced', 'img_url': 'https://astrogeology.usgs.gov/cache/images/555e6403a6ddd7ba16ddb0e471cadcf7_syrtis_major_enhanced.tif_full.jpg'}\n",
      "{'title': 'Valles Marineris Hemisphere Enhanced', 'img_url': 'https://astrogeology.usgs.gov/cache/images/b3c7c6c9138f57b4756be9b9c43e3a48_valles_marineris_enhanced.tif_full.jpg'}\n"
     ]
    }
   ],
   "source": [
    "# Visit the USGS Astrogeology site to obtain high resolution images\n",
    "# for each of Mar's hemispheres.\n",
    "\n",
    "# You will need to click each of the links to the hemispheres in \n",
    "# order to find the image url to the full resolution image.\n",
    "\n",
    "# Save both the image url string for the full resolution hemisphere \n",
    "# image, and the Hemisphere title containing the hemisphere name. \n",
    "# Use a Python dictionary to store the data using the keys `img_url`\n",
    "# and `title`.\n",
    "\n",
    "# Append the dictionary with the image url string and the hemisphere \n",
    "# title to a list. This list will contain one dictionary for each\n",
    "# hemisphere.\n",
    "\n",
    "hemisphere_image_urls = []\n",
    "\n",
    "with ChromeBrowser(mars_hemispheres_url) as browser: \n",
    "    html = browser.html\n",
    "    soup = bs(html, \"html.parser\")\n",
    "    results = soup.find(class_=\"result-list\").find_all(class_=\"item\")\n",
    "    for result in results:\n",
    "        hemisphere = {}\n",
    "        hemisphere[\"title\"] = result.find(\"h3\").text\n",
    "        browser.links.find_by_partial_text(hemisphere[\"title\"]).click()\n",
    "        html = browser.html\n",
    "        soup = bs(html, \"html.parser\")\n",
    "        hemisphere[\"img_url\"] = astrogeology_url + soup.find(class_=\"wide-image\")[\"src\"]\n",
    "        hemisphere_image_urls.append(hemisphere)\n",
    "        browser.back()\n",
    "        \n",
    "for url in hemisphere_image_urls:\n",
    "    print(url)"
   ]
  },
  {
   "cell_type": "code",
   "execution_count": null,
   "metadata": {},
   "outputs": [],
   "source": []
  }
 ],
 "metadata": {
  "kernelspec": {
   "display_name": "Python 3",
   "language": "python",
   "name": "python3"
  },
  "language_info": {
   "codemirror_mode": {
    "name": "ipython",
    "version": 3
   },
   "file_extension": ".py",
   "mimetype": "text/x-python",
   "name": "python",
   "nbconvert_exporter": "python",
   "pygments_lexer": "ipython3",
   "version": "3.8.5"
  }
 },
 "nbformat": 4,
 "nbformat_minor": 4
}
